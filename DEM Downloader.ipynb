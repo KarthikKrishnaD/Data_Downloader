{
 "cells": [
  {
   "cell_type": "code",
   "execution_count": 2,
   "id": "7c096ae5-5e70-4d10-a210-e7848d80d0b4",
   "metadata": {
    "scrolled": true
   },
   "outputs": [
    {
     "name": "stdout",
     "output_type": "stream",
     "text": [
      "File downloaded successfully!\n"
     ]
    }
   ],
   "source": [
    "import requests\n",
    "import geopandas as gpd\n",
    "import os\n",
    "import numpy as np\n",
    "\n",
    "df = gpd.read_file(r\"D:\\Git\\Projects\\Runtime files\\LV_Kagera_Akanyaru.shp\")\n",
    "bounds = df.geometry.bounds\n",
    "\n",
    "# specifiy the required buffer size\n",
    "buffer_size = 0.05\n",
    "\n",
    "# increasing the extent\n",
    "bounds['minx'] = bounds['minx'] - buffer_size\n",
    "bounds['miny'] = bounds['miny'] - buffer_size\n",
    "bounds['maxx'] = bounds['maxx'] + buffer_size\n",
    "bounds['maxy'] = bounds['maxy'] + buffer_size\n",
    "\n",
    "# Base URL of the Open Topography API\n",
    "base_url = \"https://portal.opentopography.org/API/globaldem\"\n",
    "\n",
    "# User-specified parameters\n",
    "#SRTMGL3 (SRTM GL3 90m)\n",
    "#SRTMGL1 (SRTM GL1 30m)\n",
    "#SRTMGL1_E (SRTM GL1 Ellipsoidal 30m)\n",
    "#AW3D30 (ALOS World 3D 30m)\n",
    "#AW3D30_E (ALOS World 3D Ellipsoidal, 30m)\n",
    "#SRTM15Plus (Global Bathymetry SRTM15+ V2.1 500m)\n",
    "#NASADEM (NASADEM Global DEM)\n",
    "#COP30 (Copernicus Global DSM 30m)\n",
    "#COP90 (Copernicus Global DSM 90m)\n",
    "#EU_DTM (DTM 30m)\n",
    "#GEDI_L3 (DTM 1000m)\n",
    "#GEBCOIceTopo (Global Bathymetry 500m)\n",
    "#GEBCOSubIceTopo (Global Bathymetry 500m)\n",
    "\n",
    "# output formats - GTiff for GeoTiff, AAIGrid for Arc ASCII Grid, HFA for Erdas Imagine (.IMG)\n",
    "params = {\n",
    "    \"demtype\": \"COP30\",\n",
    "    \"south\": bounds['miny'],\n",
    "    \"north\": bounds['maxy'],\n",
    "    \"west\": bounds['minx'],\n",
    "    \"east\": bounds['maxx'],\n",
    "    \"outputFormat\": \"GTiff\",\n",
    "    \"API_Key\": \"demoapikeyot2022\"  # Replace with your actual API key\n",
    "}\n",
    "\n",
    "# Sending GET request to the API\n",
    "response = requests.get(base_url, params=params)\n",
    "\n",
    "# Check if the request was successful\n",
    "if response.status_code == 200:\n",
    "    # Save the response content to a file (assuming it's a binary file like GTiff)\n",
    "    with open(\"output.tif\", \"wb\") as file:\n",
    "        file.write(response.content)\n",
    "    print(\"File downloaded successfully!\")\n",
    "else:\n",
    "    print(f\"Failed to retrieve data: {response.status_code}\")\n",
    "    print(response.text)\n"
   ]
  },
  {
   "cell_type": "markdown",
   "id": "5f2f5edd-74a9-4bf4-b162-417b4d2b2801",
   "metadata": {},
   "source": [
    "For Copernicous DEM use the Below code to un-compress the Downloaded Tif file. Cop DEM's are generally compressed."
   ]
  },
  {
   "cell_type": "code",
   "execution_count": 3,
   "id": "fd3406df-e71b-4476-a790-e45cb96df821",
   "metadata": {},
   "outputs": [
    {
     "name": "stdout",
     "output_type": "stream",
     "text": [
      "Uncompressed DEM TIFF file saved as 'uncompressed_dem.tif'\n"
     ]
    }
   ],
   "source": [
    "import rasterio\n",
    "from rasterio.enums import Compression\n",
    "\n",
    "# Open the compressed DEM TIFF file\n",
    "with rasterio.open(r'C:\\Users\\degalak.krishna\\output.tif') as src:\n",
    "    profile = src.profile\n",
    "    profile.update(compress='none')\n",
    "    \n",
    "    # Save it as an uncompressed TIFF file\n",
    "    with rasterio.open(r'C:\\Users\\degalak.krishna\\output_uncompressed_dem.tif', 'w', **profile) as dst:\n",
    "        dst.write(src.read())\n",
    "\n",
    "print(\"Uncompressed DEM TIFF file saved as 'uncompressed_dem.tif'\")\n"
   ]
  }
 ],
 "metadata": {
  "kernelspec": {
   "display_name": "Python 3 (ipykernel)",
   "language": "python",
   "name": "python3"
  },
  "language_info": {
   "codemirror_mode": {
    "name": "ipython",
    "version": 3
   },
   "file_extension": ".py",
   "mimetype": "text/x-python",
   "name": "python",
   "nbconvert_exporter": "python",
   "pygments_lexer": "ipython3",
   "version": "3.11.7"
  }
 },
 "nbformat": 4,
 "nbformat_minor": 5
}
